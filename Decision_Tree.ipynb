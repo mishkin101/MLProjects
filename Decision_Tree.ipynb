{
 "cells": [
  {
   "cell_type": "markdown",
   "metadata": {},
   "source": [
    "#### This assignment may be worked individually or in pairs. Enter your name/s here:\n",
    "    "
   ]
  },
  {
   "cell_type": "code",
   "execution_count": null,
   "metadata": {},
   "outputs": [],
   "source": [
    "#names here\n",
    "#Michelle Gelman\n",
    "#Daphne Lopez"
   ]
  },
  {
   "cell_type": "markdown",
   "metadata": {
    "collapsed": true
   },
   "source": [
    "# Assignment 2: Decision Trees\n",
    "\n",
    "In this assignment we'll implement the Decision Tree algorithm to classify patients as either having or not having diabetic retinopathy. For this task we'll be using the Diabetic Retinopathy data set, which contains features from the Messidor image set to predict whether an image contains signs of diabetic retinopathy or not. This dataset has `1150` records and `20` attributes (some categorical, some continuous). You can find additional details about the dataset [here](http://archive.ics.uci.edu/ml/datasets/Diabetic+Retinopathy+Debrecen+Data+Set)."
   ]
  },
  {
   "cell_type": "markdown",
   "metadata": {},
   "source": [
    "Attribute Information:\n",
    "\n",
    "0) The binary result of quality assessment. 0 = bad quality 1 = sufficient quality.\n",
    "\n",
    "1) The binary result of pre-screening, where 1 indicates severe retinal abnormality and 0 its lack. \n",
    "\n",
    "2-7) The results of MA detection. Each feature value stand for the number of MAs found at the confidence levels alpha = 0.5, . . . , 1, respectively. \n",
    "\n",
    "8-15) contain the same information as 2-7) for exudates. However, as exudates are represented by a set of points rather than the number of pixels constructing the lesions, these features are normalized by dividing the \n",
    "number of lesions with the diameter of the ROI to compensate different image sizes. \n",
    "\n",
    "16) The euclidean distance of the center of the macula and the center of the optic disc to provide important information regarding the patient's condition. This feature is also normalized with the diameter of the ROI.\n",
    "\n",
    "17) The diameter of the optic disc. \n",
    "\n",
    "18) The binary result of the AM/FM-based classification.\n",
    "\n",
    "19) Class label. 1 = contains signs of Diabetic Retinopathy, 0 = no signs of Diabetic Retinopathy."
   ]
  },
  {
   "cell_type": "markdown",
   "metadata": {},
   "source": [
    "#### Implementation: \n",
    "The function prototypes are given to you, please don't change those. You can add additional helper functions if needed. \n",
    "\n",
    "*Suggestion:* The dataset is substantially big, for the purpose of easy debugging, work with a subset of the data and test your decision tree implementation on that.\n",
    "\n",
    "#### Notes:\n",
    "Parts of this assignment will be **autograded** so a couple of caveats :-\n",
    "- Entropy is calculated using log with base 2, `math.log2(x)`.\n",
    "- For continuous features ensure that the threshold value lies exactly between 2 values. For example, if for feature 2 the best split occurs between 10 and 15 then the threshold value will be set as 12.5. For binary features [0/1] the threshold value will be 0.5.\n",
    "- All values < `thresh_val` go to the left child and all values >= `thresh_val` go to the right child."
   ]
  },
  {
   "cell_type": "code",
   "execution_count": 1,
   "metadata": {},
   "outputs": [],
   "source": [
    "# Standard Headers\n",
    "# You are welcome to add additional headers if you wish\n",
    "# EXCEPT for scikit-learn... You may NOT use scikit-learn for this assignment!\n",
    "import pandas as pd\n",
    "import numpy as np\n",
    "from math import log2"
   ]
  },
  {
   "cell_type": "code",
   "execution_count": 2,
   "metadata": {},
   "outputs": [],
   "source": [
    "class DataPoint:\n",
    "    def __str__(self):\n",
    "        return \"< \" + str(self.label) + \": \" + str(self.features) + \" >\"\n",
    "    def __init__(self, label, features):\n",
    "        self.label = label # the classification label of this data point\n",
    "        self.features = features"
   ]
  },
  {
   "cell_type": "markdown",
   "metadata": {},
   "source": [
    "Q1. Read data from a CSV file. Put it into a list of `DataPoints`."
   ]
  },
  {
   "cell_type": "code",
   "execution_count": 3,
   "metadata": {},
   "outputs": [],
   "source": [
    "def get_data(filename):\n",
    "    data = []\n",
    "#    your code goes here\n",
    "    RM_data = pd.read_csv(filename, sep = \",\", header = None)\n",
    "    f = lambda x: DataPoint(x.iloc[-1], x.iloc[0:19].tolist())\n",
    "    DataPoints = RM_data.apply(f, axis = 1)\n",
    "    data = DataPoints.tolist()\n",
    "    return data"
   ]
  },
  {
   "cell_type": "code",
   "execution_count": 4,
   "metadata": {},
   "outputs": [],
   "source": [
    "class TreeNode:\n",
    "    is_leaf = True          # boolean variable to check if the node is a leaf\n",
    "    feature_idx = None      # index that identifies the feature\n",
    "    thresh_val = None       # threshold value that splits the node\n",
    "    prediction = None       # prediction class (only valid for leaf nodes)\n",
    "    left_child = None       # left TreeNode (all values < thresh_val)\n",
    "    right_child = None      # right TreeNode (all values >= thresh_val)\n",
    "    \n",
    "    def printTree(self, level=0):    # for debugging purposes\n",
    "        if self.is_leaf:\n",
    "            print ('-'*level + 'Leaf Node:      predicts ' + str(self.prediction))\n",
    "        else:\n",
    "            print ('-'*level + 'Internal Node:  splits on feature ' \n",
    "                   + str(self.feature_idx) + ' with threshold ' + str(self.thresh_val))\n",
    "            self.left_child.printTree(level+1)\n",
    "            self.right_child.printTree(level+1)"
   ]
  },
  {
   "cell_type": "markdown",
   "metadata": {},
   "source": [
    "Q2. Implement the function `make_prediction` that takes the decision tree root and a `DataPoint` instance and returns the prediction label."
   ]
  },
  {
   "cell_type": "code",
   "execution_count": 5,
   "metadata": {},
   "outputs": [],
   "source": [
    "def make_prediction(tree_root, data_point):\n",
    "#     your code goes here\n",
    "    # base case\n",
    "    if tree_root.is_leaf:\n",
    "        return int(tree_root.prediction)\n",
    "    else:\n",
    "        # compare to threshold and traverse either left or right in tree\n",
    "        value = data_point.features[int(tree_root.feature_idx)]\n",
    "        if (value < tree_root.thresh_val):\n",
    "            return make_prediction(tree_root.left_child, data_point)\n",
    "        else:\n",
    "            return make_prediction(tree_root.right_child, data_point) "
   ]
  },
  {
   "cell_type": "markdown",
   "metadata": {},
   "source": [
    "Q3. Implement the function `split_dataset` given an input data set, a `feature_idx` and the `threshold` for the feature. `left_split` will have all values < `threshold` and `right_split` will have all values >= `threshold`."
   ]
  },
  {
   "cell_type": "code",
   "execution_count": 6,
   "metadata": {},
   "outputs": [],
   "source": [
    "def split_dataset(data, feature_idx, threshold):\n",
    "    left_split = []\n",
    "    right_split = []\n",
    "#     your code goes here\n",
    "    for datapoint in data:\n",
    "        if(datapoint.features[int(feature_idx)] < threshold):\n",
    "            left_split.append(datapoint)\n",
    "        else:\n",
    "            right_split.append(datapoint)\n",
    "    return (left_split, right_split)"
   ]
  },
  {
   "cell_type": "markdown",
   "metadata": {},
   "source": [
    "Q4. Implement the function `calc_entropy` to return the entropy of the input dataset."
   ]
  },
  {
   "cell_type": "code",
   "execution_count": 7,
   "metadata": {},
   "outputs": [],
   "source": [
    "def calc_entropy(data):\n",
    "    entropy = 0.0\n",
    "#     your code goes here\n",
    "    y, n = 0,0\n",
    "    tot = len(data)\n",
    "    # base case if data is empty \n",
    "    if (tot == 0):\n",
    "        return 0\n",
    "    # loop through every datapoint and count y/n\n",
    "    for datapoint in data:\n",
    "        if (datapoint.label == 0.0):\n",
    "            n += 1 \n",
    "        else:\n",
    "            y += 1\n",
    "    # calculate entropy\n",
    "    if y == 0:\n",
    "        entropy += - (n/tot)* log2(n/tot)\n",
    "    elif n == 0:\n",
    "        entropy += (-(y/tot)* log2(y/tot))\n",
    "    else:\n",
    "        entropy += (-(y/tot)* log2(y/tot) - \n",
    "                (n/tot)* log2(n/tot))\n",
    "    return entropy"
   ]
  },
  {
   "cell_type": "markdown",
   "metadata": {},
   "source": [
    "Q5. Implement the function `calc_best_threshold` which returns the best information gain and the corresponding threshold value for one feature at `feature_idx`."
   ]
  },
  {
   "cell_type": "code",
   "execution_count": 8,
   "metadata": {},
   "outputs": [],
   "source": [
    "def calc_best_threshold(data, feature_idx):\n",
    "    best_info_gain = 0.0\n",
    "    best_thresh = 0.0\n",
    "#     your code goes here\n",
    "    parent = calc_entropy(data)\n",
    "    # sort each datapoint's feature_idx value in ascending order\n",
    "    sorted_attribute_list = []\n",
    "    for datapoint in data:\n",
    "        sorted_attribute_list.append(datapoint.features[feature_idx])\n",
    "    sorted_attribute_list.sort()\n",
    "    # loop through the datapoints and find the gain for each thresh avg\n",
    "    for index in range((len(sorted_attribute_list) - 1)):\n",
    "        ft_val = sorted_attribute_list[index]\n",
    "        ft2_val = sorted_attribute_list[index + 1]\n",
    "        # calculate current threshold based on those values\n",
    "        thresh = (ft_val + ft2_val) / 2\n",
    "        left, right = split_dataset(data, feature_idx, thresh)\n",
    "        en_left = calc_entropy(left)\n",
    "        en_right = calc_entropy(right)\n",
    "        gain = parent - (len(left)/len(data))*en_left - (len(right)/len(data))*en_right\n",
    "        # compare/update best_gain and best_thresh\n",
    "        if best_info_gain <= gain:\n",
    "            best_info_gain = gain\n",
    "            best_thresh = thresh\n",
    "    return (best_info_gain, best_thresh)"
   ]
  },
  {
   "cell_type": "markdown",
   "metadata": {},
   "source": [
    "Q6. Implement the function `identify_best_split` which returns the best feature to split on for an input dataset, and also returns the corresponding threshold value."
   ]
  },
  {
   "cell_type": "code",
   "execution_count": 9,
   "metadata": {},
   "outputs": [],
   "source": [
    "def identify_best_split(data):\n",
    "    if len(data) < 2:\n",
    "        return (None, None)\n",
    "    best_feature = 0\n",
    "    best_thresh = 0.0\n",
    "#     your code goes here\n",
    "    best_gain = 0.0\n",
    "    cnt = 0\n",
    "    # loop through every feature and compare its gain\n",
    "    for feature in data[0].features:\n",
    "        gain, thresh = calc_best_threshold(data, cnt)\n",
    "        if  gain > best_gain:\n",
    "            best_gain = gain\n",
    "            best_thresh = thresh\n",
    "            best_feature = cnt\n",
    "        cnt += 1\n",
    "    return (best_feature, best_thresh)"
   ]
  },
  {
   "cell_type": "markdown",
   "metadata": {},
   "source": [
    "Q7. Implement the function `create_leaf_node` which returns a `TreeNode` with `is_leaf=True` and `prediction` set to whichever classification occurs most in the dataset at this node."
   ]
  },
  {
   "cell_type": "code",
   "execution_count": 10,
   "metadata": {},
   "outputs": [],
   "source": [
    "def create_leaf_node(data):\n",
    "#     your code goes here\n",
    "    cnt_y = 0\n",
    "    cnt_n = 0\n",
    "    # count the class labels for each datapoint\n",
    "    for datapoint in data:\n",
    "        if datapoint.label == 1:\n",
    "            cnt_y += 1\n",
    "        else:\n",
    "            cnt_n += 1\n",
    "    # create a leaf node with the most common label\n",
    "    leaf_node =  TreeNode()\n",
    "    leaf_node.is_leaf = True\n",
    "    # Set prediction; if there is a tie return 1\n",
    "    if cnt_n > cnt_y:\n",
    "        leaf_node.prediction = 0\n",
    "    else:\n",
    "        leaf_node.prediction = 1\n",
    "    return leaf_node"
   ]
  },
  {
   "cell_type": "markdown",
   "metadata": {},
   "source": [
    "Q8. Implement the `create_decision_tree` function. `max_levels` denotes the maximum height of the tree (for example if `max_levels = 1` then the decision tree will only contain the leaf node at the root. [Hint: this is where the recursion happens.]"
   ]
  },
  {
   "cell_type": "code",
   "execution_count": 15,
   "metadata": {},
   "outputs": [],
   "source": [
    "def create_decision_tree(data, max_levels):\n",
    "#     your code goes here\n",
    "    # base case: if data is empty\n",
    "    if(data == None):\n",
    "        return\n",
    "    # base case: if there is only 1 datapoint\n",
    "    if (len(data) < 2):\n",
    "         return create_leaf_node(data)\n",
    "    # base case: when we've reached the last level, create a leaf\n",
    "    if(max_levels == 1):\n",
    "        return create_leaf_node(data)\n",
    "    # recursive case; find best split, create nodes, and create the child nodes\n",
    "    else:\n",
    "        feature_idx, thresh_val = identify_best_split(data)\n",
    "        print(thresh_val)\n",
    "        left, right = split_dataset(data, feature_idx, thresh_val)\n",
    "        node = TreeNode()\n",
    "        node.is_leaf = False\n",
    "        node.feature_idx = feature_idx\n",
    "        node.thresh_val = thresh_val\n",
    "        node.left_child = create_decision_tree(left, max_levels - 1)\n",
    "        node.right_child = create_decision_tree(right, max_levels - 1)\n",
    "        return node"
   ]
  },
  {
   "cell_type": "markdown",
   "metadata": {},
   "source": [
    "Q9. Given a test set, the function `calc_accuracy` returns the accuracy of the classifier. You'll use the `make_prediction` function for this."
   ]
  },
  {
   "cell_type": "code",
   "execution_count": 16,
   "metadata": {},
   "outputs": [],
   "source": [
    "def calc_accuracy(tree_root, data):\n",
    "#     your code goes here\n",
    "    corr_cnt = 0\n",
    "    # loop through each data point and count how many match actual prediction\n",
    "    for datapoint in data:\n",
    "        label = datapoint.label\n",
    "        act_label = make_prediction(tree_root, datapoint)\n",
    "        if int(label) == int(act_label):\n",
    "            corr_cnt += 1\n",
    "    return corr_cnt/len(data)"
   ]
  },
  {
   "cell_type": "markdown",
   "metadata": {},
   "source": [
    "Q10. Keeping the `max_levels` parameter as 10, use 5-fold cross validation to measure the accuracy of the model. Print the accuracy of the model."
   ]
  },
  {
   "cell_type": "code",
   "execution_count": 18,
   "metadata": {
    "scrolled": true
   },
   "outputs": [
    {
     "name": "stdout",
     "output_type": "stream",
     "text": [
      "Training set size: 920\n",
      "Test set size    : 230\n"
     ]
    },
    {
     "ename": "KeyboardInterrupt",
     "evalue": "",
     "output_type": "error",
     "traceback": [
      "\u001b[1;31m---------------------------------------------------------------------------\u001b[0m",
      "\u001b[1;31mKeyboardInterrupt\u001b[0m                         Traceback (most recent call last)",
      "\u001b[1;32m<ipython-input-18-63c9c4143984>\u001b[0m in \u001b[0;36m<module>\u001b[1;34m\u001b[0m\n\u001b[0;32m     28\u001b[0m \u001b[1;33m\u001b[0m\u001b[0m\n\u001b[0;32m     29\u001b[0m     \u001b[1;31m# create the decision tree\u001b[0m\u001b[1;33m\u001b[0m\u001b[1;33m\u001b[0m\u001b[1;33m\u001b[0m\u001b[0m\n\u001b[1;32m---> 30\u001b[1;33m     \u001b[0mtree\u001b[0m \u001b[1;33m=\u001b[0m \u001b[0mcreate_decision_tree\u001b[0m\u001b[1;33m(\u001b[0m\u001b[0mtrain_set\u001b[0m\u001b[1;33m,\u001b[0m \u001b[1;36m10\u001b[0m\u001b[1;33m)\u001b[0m\u001b[1;33m\u001b[0m\u001b[1;33m\u001b[0m\u001b[0m\n\u001b[0m\u001b[0;32m     31\u001b[0m \u001b[1;33m\u001b[0m\u001b[0m\n\u001b[0;32m     32\u001b[0m     \u001b[0mend\u001b[0m \u001b[1;33m=\u001b[0m \u001b[0mtime\u001b[0m\u001b[1;33m.\u001b[0m\u001b[0mtime\u001b[0m\u001b[1;33m(\u001b[0m\u001b[1;33m)\u001b[0m\u001b[1;33m\u001b[0m\u001b[1;33m\u001b[0m\u001b[0m\n",
      "\u001b[1;32m<ipython-input-15-2c1e563ed6ec>\u001b[0m in \u001b[0;36mcreate_decision_tree\u001b[1;34m(data, max_levels)\u001b[0m\n\u001b[0;32m     12\u001b[0m     \u001b[1;31m# recursive case; find best split, create nodes, and create the child nodes\u001b[0m\u001b[1;33m\u001b[0m\u001b[1;33m\u001b[0m\u001b[1;33m\u001b[0m\u001b[0m\n\u001b[0;32m     13\u001b[0m     \u001b[1;32melse\u001b[0m\u001b[1;33m:\u001b[0m\u001b[1;33m\u001b[0m\u001b[1;33m\u001b[0m\u001b[0m\n\u001b[1;32m---> 14\u001b[1;33m         \u001b[0mfeature_idx\u001b[0m\u001b[1;33m,\u001b[0m \u001b[0mthresh_val\u001b[0m \u001b[1;33m=\u001b[0m \u001b[0midentify_best_split\u001b[0m\u001b[1;33m(\u001b[0m\u001b[0mdata\u001b[0m\u001b[1;33m)\u001b[0m\u001b[1;33m\u001b[0m\u001b[1;33m\u001b[0m\u001b[0m\n\u001b[0m\u001b[0;32m     15\u001b[0m         \u001b[0mprint\u001b[0m\u001b[1;33m(\u001b[0m\u001b[0mthresh_val\u001b[0m\u001b[1;33m)\u001b[0m\u001b[1;33m\u001b[0m\u001b[1;33m\u001b[0m\u001b[0m\n\u001b[0;32m     16\u001b[0m         \u001b[0mleft\u001b[0m\u001b[1;33m,\u001b[0m \u001b[0mright\u001b[0m \u001b[1;33m=\u001b[0m \u001b[0msplit_dataset\u001b[0m\u001b[1;33m(\u001b[0m\u001b[0mdata\u001b[0m\u001b[1;33m,\u001b[0m \u001b[0mfeature_idx\u001b[0m\u001b[1;33m,\u001b[0m \u001b[0mthresh_val\u001b[0m\u001b[1;33m)\u001b[0m\u001b[1;33m\u001b[0m\u001b[1;33m\u001b[0m\u001b[0m\n",
      "\u001b[1;32m<ipython-input-9-c715f862c5b8>\u001b[0m in \u001b[0;36midentify_best_split\u001b[1;34m(data)\u001b[0m\n\u001b[0;32m      9\u001b[0m     \u001b[1;31m# loop through every feature and compare its gain\u001b[0m\u001b[1;33m\u001b[0m\u001b[1;33m\u001b[0m\u001b[1;33m\u001b[0m\u001b[0m\n\u001b[0;32m     10\u001b[0m     \u001b[1;32mfor\u001b[0m \u001b[0mfeature\u001b[0m \u001b[1;32min\u001b[0m \u001b[0mdata\u001b[0m\u001b[1;33m[\u001b[0m\u001b[1;36m0\u001b[0m\u001b[1;33m]\u001b[0m\u001b[1;33m.\u001b[0m\u001b[0mfeatures\u001b[0m\u001b[1;33m:\u001b[0m\u001b[1;33m\u001b[0m\u001b[1;33m\u001b[0m\u001b[0m\n\u001b[1;32m---> 11\u001b[1;33m         \u001b[0mgain\u001b[0m\u001b[1;33m,\u001b[0m \u001b[0mthresh\u001b[0m \u001b[1;33m=\u001b[0m \u001b[0mcalc_best_threshold\u001b[0m\u001b[1;33m(\u001b[0m\u001b[0mdata\u001b[0m\u001b[1;33m,\u001b[0m \u001b[0mcnt\u001b[0m\u001b[1;33m)\u001b[0m\u001b[1;33m\u001b[0m\u001b[1;33m\u001b[0m\u001b[0m\n\u001b[0m\u001b[0;32m     12\u001b[0m         \u001b[1;32mif\u001b[0m  \u001b[0mgain\u001b[0m \u001b[1;33m>\u001b[0m \u001b[0mbest_gain\u001b[0m\u001b[1;33m:\u001b[0m\u001b[1;33m\u001b[0m\u001b[1;33m\u001b[0m\u001b[0m\n\u001b[0;32m     13\u001b[0m             \u001b[0mbest_gain\u001b[0m \u001b[1;33m=\u001b[0m \u001b[0mgain\u001b[0m\u001b[1;33m\u001b[0m\u001b[1;33m\u001b[0m\u001b[0m\n",
      "\u001b[1;32m<ipython-input-8-ee9ebdbccf94>\u001b[0m in \u001b[0;36mcalc_best_threshold\u001b[1;34m(data, feature_idx)\u001b[0m\n\u001b[0;32m     15\u001b[0m         \u001b[1;31m# calculate current threshold based on those values\u001b[0m\u001b[1;33m\u001b[0m\u001b[1;33m\u001b[0m\u001b[1;33m\u001b[0m\u001b[0m\n\u001b[0;32m     16\u001b[0m         \u001b[0mthresh\u001b[0m \u001b[1;33m=\u001b[0m \u001b[1;33m(\u001b[0m\u001b[0mft_val\u001b[0m \u001b[1;33m+\u001b[0m \u001b[0mft2_val\u001b[0m\u001b[1;33m)\u001b[0m \u001b[1;33m/\u001b[0m \u001b[1;36m2\u001b[0m\u001b[1;33m\u001b[0m\u001b[1;33m\u001b[0m\u001b[0m\n\u001b[1;32m---> 17\u001b[1;33m         \u001b[0mleft\u001b[0m\u001b[1;33m,\u001b[0m \u001b[0mright\u001b[0m \u001b[1;33m=\u001b[0m \u001b[0msplit_dataset\u001b[0m\u001b[1;33m(\u001b[0m\u001b[0mdata\u001b[0m\u001b[1;33m,\u001b[0m \u001b[0mfeature_idx\u001b[0m\u001b[1;33m,\u001b[0m \u001b[0mthresh\u001b[0m\u001b[1;33m)\u001b[0m\u001b[1;33m\u001b[0m\u001b[1;33m\u001b[0m\u001b[0m\n\u001b[0m\u001b[0;32m     18\u001b[0m         \u001b[0men_left\u001b[0m \u001b[1;33m=\u001b[0m \u001b[0mcalc_entropy\u001b[0m\u001b[1;33m(\u001b[0m\u001b[0mleft\u001b[0m\u001b[1;33m)\u001b[0m\u001b[1;33m\u001b[0m\u001b[1;33m\u001b[0m\u001b[0m\n\u001b[0;32m     19\u001b[0m         \u001b[0men_right\u001b[0m \u001b[1;33m=\u001b[0m \u001b[0mcalc_entropy\u001b[0m\u001b[1;33m(\u001b[0m\u001b[0mright\u001b[0m\u001b[1;33m)\u001b[0m\u001b[1;33m\u001b[0m\u001b[1;33m\u001b[0m\u001b[0m\n",
      "\u001b[1;32m<ipython-input-6-6f823f5a174c>\u001b[0m in \u001b[0;36msplit_dataset\u001b[1;34m(data, feature_idx, threshold)\u001b[0m\n\u001b[0;32m      5\u001b[0m     \u001b[1;32mfor\u001b[0m \u001b[0mdatapoint\u001b[0m \u001b[1;32min\u001b[0m \u001b[0mdata\u001b[0m\u001b[1;33m:\u001b[0m\u001b[1;33m\u001b[0m\u001b[1;33m\u001b[0m\u001b[0m\n\u001b[0;32m      6\u001b[0m         \u001b[1;32mif\u001b[0m\u001b[1;33m(\u001b[0m\u001b[0mdatapoint\u001b[0m\u001b[1;33m.\u001b[0m\u001b[0mfeatures\u001b[0m\u001b[1;33m[\u001b[0m\u001b[0mint\u001b[0m\u001b[1;33m(\u001b[0m\u001b[0mfeature_idx\u001b[0m\u001b[1;33m)\u001b[0m\u001b[1;33m]\u001b[0m \u001b[1;33m<\u001b[0m \u001b[0mthreshold\u001b[0m\u001b[1;33m)\u001b[0m\u001b[1;33m:\u001b[0m\u001b[1;33m\u001b[0m\u001b[1;33m\u001b[0m\u001b[0m\n\u001b[1;32m----> 7\u001b[1;33m             \u001b[0mleft_split\u001b[0m\u001b[1;33m.\u001b[0m\u001b[0mappend\u001b[0m\u001b[1;33m(\u001b[0m\u001b[0mdatapoint\u001b[0m\u001b[1;33m)\u001b[0m\u001b[1;33m\u001b[0m\u001b[1;33m\u001b[0m\u001b[0m\n\u001b[0m\u001b[0;32m      8\u001b[0m         \u001b[1;32melse\u001b[0m\u001b[1;33m:\u001b[0m\u001b[1;33m\u001b[0m\u001b[1;33m\u001b[0m\u001b[0m\n\u001b[0;32m      9\u001b[0m             \u001b[0mright_split\u001b[0m\u001b[1;33m.\u001b[0m\u001b[0mappend\u001b[0m\u001b[1;33m(\u001b[0m\u001b[0mdatapoint\u001b[0m\u001b[1;33m)\u001b[0m\u001b[1;33m\u001b[0m\u001b[1;33m\u001b[0m\u001b[0m\n",
      "\u001b[1;31mKeyboardInterrupt\u001b[0m: "
     ]
    }
   ],
   "source": [
    "# edit the code here - this is just a sample to get you started\n",
    "import time\n",
    "\n",
    "d = get_data(\"messidor_features.txt\")\n",
    "\n",
    "#  5-fold cross validation\n",
    "accuracy_sum = 0.0\n",
    "fold_size = int(len(d)/5)\n",
    "avg = 0.0\n",
    "cnt = 1\n",
    "start_d = 0\n",
    "while cnt <= 5:\n",
    "    # calculate start and end point for this fold\n",
    "    start_test = start_d * fold_size\n",
    "    end_d = (cnt * fold_size)\n",
    "    cnt += 1\n",
    "    start_d += 1\n",
    "    \n",
    "    # partition data into train_set and test_set\n",
    "    train_set = d[0:int(start_test)].copy() + d[int(end_d):len(d)].copy()\n",
    "    test_set = d[int(start_test):int(end_d)].copy()\n",
    "\n",
    "    print ('Training set size:', len(train_set))\n",
    "    print ('Test set size    :', len(test_set))\n",
    "\n",
    "    # the timer is just for fun! you will NOT be graded on runtime\n",
    "    start = time.time()\n",
    "\n",
    "    # create the decision tree\n",
    "    tree = create_decision_tree(train_set, 10)\n",
    "\n",
    "    end = time.time()\n",
    "    print ('Time taken:', end - start)\n",
    "\n",
    "    # calculate the accuracy of the tree\n",
    "    accuracy = calc_accuracy(tree, test_set)\n",
    "    accuracy_sum += accuracy\n",
    "    print ('The accuracy on the test set is ', str(accuracy * 100.0))\n",
    "    #t.printTree()\n",
    "print ('The average accuracy of this model is ', str(accuracy_sum/5 * 100.0))\n",
    "\n",
    "tree = create_decision_tree(d[0:20], 10)\n",
    "\n",
    "make_prediction(tree, d[0])"
   ]
  },
  {
   "cell_type": "code",
   "execution_count": 22,
   "metadata": {},
   "outputs": [
    {
     "name": "stdout",
     "output_type": "stream",
     "text": [
      "27.0\n",
      "65.9027985\n",
      "0.0\n",
      "0.0\n",
      "0.0\n",
      "0.0\n",
      "0.0\n",
      "0.0\n",
      "0.0\n",
      "44.5\n",
      "0.0\n",
      "0.0\n",
      "0.0\n",
      "0.0\n",
      "0.0\n",
      "0.0\n",
      "0.0\n",
      "0.011693\n",
      "0.0\n",
      "0.0\n",
      "0.0\n",
      "0.0\n",
      "0.0\n",
      "0.0\n",
      "58.5\n",
      "0.0\n",
      "0.0\n",
      "0.0\n",
      "0.0\n",
      "0.0\n",
      "Internal Node:  splits on feature 2 with threshold 27.0\n",
      "-Internal Node:  splits on feature 8 with threshold 65.9027985\n",
      "--Internal Node:  splits on feature 0 with threshold 0.0\n",
      "---Leaf Node:      predicts 1\n",
      "---Internal Node:  splits on feature 0 with threshold 0.0\n",
      "----Leaf Node:      predicts 1\n",
      "----Internal Node:  splits on feature 0 with threshold 0.0\n",
      "-----Leaf Node:      predicts 1\n",
      "-----Internal Node:  splits on feature 0 with threshold 0.0\n",
      "------Leaf Node:      predicts 1\n",
      "------Internal Node:  splits on feature 0 with threshold 0.0\n",
      "-------Leaf Node:      predicts 1\n",
      "-------Internal Node:  splits on feature 0 with threshold 0.0\n",
      "--------Leaf Node:      predicts 1\n",
      "--------Internal Node:  splits on feature 0 with threshold 0.0\n",
      "---------Leaf Node:      predicts 1\n",
      "---------Leaf Node:      predicts 0\n",
      "--Leaf Node:      predicts 1\n",
      "-Internal Node:  splits on feature 3 with threshold 44.5\n",
      "--Internal Node:  splits on feature 0 with threshold 0.0\n",
      "---Leaf Node:      predicts 1\n",
      "---Internal Node:  splits on feature 0 with threshold 0.0\n",
      "----Leaf Node:      predicts 1\n",
      "----Internal Node:  splits on feature 0 with threshold 0.0\n",
      "-----Leaf Node:      predicts 1\n",
      "-----Internal Node:  splits on feature 0 with threshold 0.0\n",
      "------Leaf Node:      predicts 1\n",
      "------Internal Node:  splits on feature 0 with threshold 0.0\n",
      "-------Leaf Node:      predicts 1\n",
      "-------Internal Node:  splits on feature 0 with threshold 0.0\n",
      "--------Leaf Node:      predicts 1\n",
      "--------Internal Node:  splits on feature 0 with threshold 0.0\n",
      "---------Leaf Node:      predicts 1\n",
      "---------Leaf Node:      predicts 1\n",
      "--Internal Node:  splits on feature 12 with threshold 0.011693\n",
      "---Internal Node:  splits on feature 0 with threshold 0.0\n",
      "----Leaf Node:      predicts 1\n",
      "----Internal Node:  splits on feature 0 with threshold 0.0\n",
      "-----Leaf Node:      predicts 1\n",
      "-----Internal Node:  splits on feature 0 with threshold 0.0\n",
      "------Leaf Node:      predicts 1\n",
      "------Internal Node:  splits on feature 0 with threshold 0.0\n",
      "-------Leaf Node:      predicts 1\n",
      "-------Internal Node:  splits on feature 0 with threshold 0.0\n",
      "--------Leaf Node:      predicts 1\n",
      "--------Internal Node:  splits on feature 0 with threshold 0.0\n",
      "---------Leaf Node:      predicts 1\n",
      "---------Leaf Node:      predicts 0\n",
      "---Internal Node:  splits on feature 2 with threshold 58.5\n",
      "----Leaf Node:      predicts 0\n",
      "----Internal Node:  splits on feature 0 with threshold 0.0\n",
      "-----Leaf Node:      predicts 1\n",
      "-----Internal Node:  splits on feature 0 with threshold 0.0\n",
      "------Leaf Node:      predicts 1\n",
      "------Internal Node:  splits on feature 0 with threshold 0.0\n",
      "-------Leaf Node:      predicts 1\n",
      "-------Internal Node:  splits on feature 0 with threshold 0.0\n",
      "--------Leaf Node:      predicts 1\n",
      "--------Internal Node:  splits on feature 0 with threshold 0.0\n",
      "---------Leaf Node:      predicts 1\n",
      "---------Leaf Node:      predicts 1\n"
     ]
    }
   ],
   "source": [
    "tree = create_decision_tree(d[0:20], 10)\n",
    "tree.printTree()\n",
    "#make_prediction(tree, d[0])"
   ]
  }
 ],
 "metadata": {
  "kernelspec": {
   "display_name": "Python 3.8.8 ('base')",
   "language": "python",
   "name": "python3"
  },
  "language_info": {
   "codemirror_mode": {
    "name": "ipython",
    "version": 3
   },
   "file_extension": ".py",
   "mimetype": "text/x-python",
   "name": "python",
   "nbconvert_exporter": "python",
   "pygments_lexer": "ipython3",
   "version": "3.8.8"
  },
  "vscode": {
   "interpreter": {
    "hash": "cbe946cef078dec365b81f9f2dec925621e866f2b105caf7a694554cdb03da5a"
   }
  }
 },
 "nbformat": 4,
 "nbformat_minor": 2
}
